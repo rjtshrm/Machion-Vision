{
  "nbformat": 4,
  "nbformat_minor": 0,
  "metadata": {
    "colab": {
      "name": "Image-Features.ipynb",
      "provenance": [],
      "collapsed_sections": [],
      "authorship_tag": "ABX9TyMPuzzvlNtvM7js3txDW+97"
    },
    "kernelspec": {
      "name": "python3",
      "display_name": "Python 3"
    }
  },
  "cells": [
    {
      "cell_type": "markdown",
      "metadata": {
        "id": "exuOkF4Zf-1q",
        "colab_type": "text"
      },
      "source": [
        "**Harris Corner Direction**:\n",
        "\n",
        "Unlike edges, corners pixels have high difference in all direction\n",
        "\n",
        "WSSD(weighted sum of square difference) but with small patch\n",
        "* E = sum_for_all_pixels_i(w(i) * [I(xi + u, yi + v) - I(xi, yi)\n",
        "\n"
      ]
    },
    {
      "cell_type": "code",
      "metadata": {
        "id": "_hTWa5Kbkiod",
        "colab_type": "code",
        "colab": {}
      },
      "source": [
        "import numpy as np"
      ],
      "execution_count": null,
      "outputs": []
    },
    {
      "cell_type": "code",
      "metadata": {
        "id": "vJWqgukGj-jY",
        "colab_type": "code",
        "colab": {}
      },
      "source": [
        "# Implementation of 2d Discrete Gaussian Filter\n",
        "\n",
        "def gauss_blur_2d(x, y, n=1.0):\n",
        "  return np.exp(-(x ** 2 + y ** 2) / (2 * (n ** 2))) / (2 * np.pi * (n ** 2))"
      ],
      "execution_count": null,
      "outputs": []
    },
    {
      "cell_type": "code",
      "metadata": {
        "id": "35fFTgorlG7l",
        "colab_type": "code",
        "colab": {
          "base_uri": "https://localhost:8080/",
          "height": 109
        },
        "outputId": "e157d469-72a6-4312-c815-3415306f980c"
      },
      "source": [
        "filter_size = (5, 5)\n",
        "\n",
        "# initialize gauss filter \n",
        "g = np.zeros(filter_size)\n",
        "\n",
        "for i in range(filter_size[0]):\n",
        "  x = i - np.floor(filter_size[0] / 2).astype(int)\n",
        "  for j in range(filter_size[1]):\n",
        "    y = j - np.floor(filter_size[1] / 2).astype(int)\n",
        "    g[i, j] = int(gauss_blur_2d(x, y))\n",
        "  \n",
        "print(g)"
      ],
      "execution_count": null,
      "outputs": [
        {
          "output_type": "stream",
          "text": [
            "[[8. 1. 1. 1. 8.]\n",
            " [1. 0. 0. 0. 1.]\n",
            " [1. 0. 0. 0. 1.]\n",
            " [1. 0. 0. 0. 1.]\n",
            " [8. 1. 1. 1. 8.]]\n"
          ],
          "name": "stdout"
        }
      ]
    }
  ]
}