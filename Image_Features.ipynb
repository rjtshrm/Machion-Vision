{
  "nbformat": 4,
  "nbformat_minor": 0,
  "metadata": {
    "colab": {
      "name": "Image-Features.ipynb",
      "provenance": [],
      "collapsed_sections": [],
      "authorship_tag": "ABX9TyPzEuGwivVIZhf0+QCgk7b9"
    },
    "kernelspec": {
      "name": "python3",
      "display_name": "Python 3"
    },
    "accelerator": "GPU"
  },
  "cells": [
    {
      "cell_type": "markdown",
      "metadata": {
        "id": "exuOkF4Zf-1q",
        "colab_type": "text"
      },
      "source": [
        "**Harris Corner Direction**:\n",
        "\n",
        "Unlike edges, corners pixels have high difference in all direction\n",
        "\n",
        "WSSD(weighted sum of square difference) but with small patch\n",
        "* E = sum_for_all_pixels_i(w(i) * [I(xi + u, yi + v) - I(xi, yi)\n",
        "\n",
        "Using Taylor Expansion: I(x + u, y + v) = I(x, y) + I’(x, y) * u + I’(x, y) * v\n",
        "\n",
        "refer: https://en.wikipedia.org/wiki/Harris_Corner_Detector"
      ]
    },
    {
      "cell_type": "code",
      "metadata": {
        "id": "_hTWa5Kbkiod",
        "colab_type": "code",
        "colab": {}
      },
      "source": [
        "import numpy as np\n",
        "import cv2\n",
        "from matplotlib import pyplot as plt"
      ],
      "execution_count": 1,
      "outputs": []
    },
    {
      "cell_type": "code",
      "metadata": {
        "id": "Q36WBoM0ON-_",
        "colab_type": "code",
        "colab": {}
      },
      "source": [
        "!wget 'https://banner2.cleanpng.com/20180219/fzw/kisspng-chessboard-draughts-chess-piece-board-game-checkerboard-5a8a801f7832a9.1952904215190262074923.jpg' -o chess.jpg\n",
        "i_img_path = 'kisspng-chessboard-draughts-chess-piece-board-game-checkerboard-5a8a801f7832a9.1952904215190262074923.jpg'"
      ],
      "execution_count": 2,
      "outputs": []
    },
    {
      "cell_type": "code",
      "metadata": {
        "id": "vJWqgukGj-jY",
        "colab_type": "code",
        "colab": {
          "base_uri": "https://localhost:8080/",
          "height": 528
        },
        "outputId": "0b2bb4ee-1b6e-4bfe-ed0e-69f3eb9a1e73"
      },
      "source": [
        "# Harris Detector OpenCV\n",
        "img = cv2.imread(i_img_path)\n",
        "gray = cv2.cvtColor(img, cv2.COLOR_BGR2GRAY)\n",
        "\n",
        "h = cv2.cornerHarris(gray, 2, 3, 0.004)\n",
        "h = cv2.dilate(h,None)\n",
        "\n",
        "#apply threshold, may depend on the image\n",
        "img[h > 0.01 * h.max()] = [0, 255, 0]\n",
        "\n",
        "fig, axs = plt.subplots(1, 1)\n",
        "fig.set_size_inches(8, 12)\n",
        "axs.imshow(img); axs.set_title('Harris Corners')"
      ],
      "execution_count": 4,
      "outputs": [
        {
          "output_type": "execute_result",
          "data": {
            "text/plain": [
              "Text(0.5, 1.0, 'Harris Corners')"
            ]
          },
          "metadata": {
            "tags": []
          },
          "execution_count": 4
        },
        {
          "output_type": "display_data",
          "data": {
            "image/png": "[encoded data removed]",
            "text/plain": [
              "<Figure size 576x864 with 1 Axes>"
            ]
          },
          "metadata": {
            "tags": [],
            "needs_background": "light"
          }
        }
      ]
    },
    {
      "cell_type": "markdown",
      "metadata": {
        "id": "ZsRx-X7mxWQs",
        "colab_type": "text"
      },
      "source": [
        "Above features (corners) are resistant to rotation, translation but scale\n",
        "\n",
        "To resolve this we have **SIFT, SURF, FAST, BRIEF, ORB**"
      ]
    },
    {
      "cell_type": "markdown",
      "metadata": {
        "id": "NIv87oiix5rr",
        "colab_type": "text"
      },
      "source": [
        "**SIFT: SCLAE INVARIANT FEATURE TRANSFORM**\n",
        "\n",
        "\n",
        "Refer: https://www.cs.ubc.ca/~lowe/papers/ijcv04.pdf"
      ]
    },
    {
      "cell_type": "markdown",
      "metadata": {
        "id": "jRo8u_z1BVu0",
        "colab_type": "text"
      },
      "source": [
        "**ORB: An efficient alternative to SIFT or SURF**\n",
        "\n"
      ]
    },
    {
      "cell_type": "code",
      "metadata": {
        "id": "y86w5Md2yCcV",
        "colab_type": "code",
        "colab": {}
      },
      "source": [
        "img = cv2.imread(i_img_path,0)\n",
        "plt.imshow(img)\n",
        "\n",
        "# Initiate STAR detector\n",
        "orb = cv2.ORB()\n",
        "\n",
        "# find the keypoints with ORB\n",
        "kp = orb.detect(img,None)\n",
        "\n",
        "# compute the descriptors with ORB\n",
        "kp, des = orb.compute(img, kp)"
      ],
      "execution_count": null,
      "outputs": []
    }
  ]
}