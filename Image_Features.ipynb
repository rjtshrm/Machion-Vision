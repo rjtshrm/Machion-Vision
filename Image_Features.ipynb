{
  "nbformat": 4,
  "nbformat_minor": 0,
  "metadata": {
    "colab": {
      "name": "Image-Features.ipynb",
      "provenance": [],
      "collapsed_sections": [],
      "authorship_tag": "ABX9TyOo2OhM6m+7C4SO7UR/1NUx"
    },
    "kernelspec": {
      "name": "python3",
      "display_name": "Python 3"
    }
  },
  "cells": [
    {
      "cell_type": "markdown",
      "metadata": {
        "id": "exuOkF4Zf-1q",
        "colab_type": "text"
      },
      "source": [
        "Gaussian Filter or Blus: Used to reduce image noise and reduce detail.\n",
        "\n",
        "* 1D Gaussian: `G(x, n) = (exp(-x² / 2 * n²)) / (2 * pi *  n²) ** 0.5`\n",
        "* 2D Gaussian: `G(x, y, n) = (exp(-(x² + y²) / 2 * n²)) / (2 * pi *  n²)`\n",
        "\n",
        "where n is standard deviation"
      ]
    },
    {
      "cell_type": "code",
      "metadata": {
        "id": "_hTWa5Kbkiod",
        "colab_type": "code",
        "colab": {}
      },
      "source": [
        "import numpy as np"
      ],
      "execution_count": null,
      "outputs": []
    },
    {
      "cell_type": "code",
      "metadata": {
        "id": "vJWqgukGj-jY",
        "colab_type": "code",
        "colab": {}
      },
      "source": [
        "# Implementation of 2d Discrete Gaussian Filter\n",
        "\n",
        "def gauss_blur_2d(x, y, n=1.0):\n",
        "  return np.exp(-(x ** 2 + y ** 2) / (2 * (n ** 2))) / (2 * np.pi * (n ** 2))"
      ],
      "execution_count": null,
      "outputs": []
    },
    {
      "cell_type": "code",
      "metadata": {
        "id": "35fFTgorlG7l",
        "colab_type": "code",
        "colab": {
          "base_uri": "https://localhost:8080/",
          "height": 109
        },
        "outputId": "e157d469-72a6-4312-c815-3415306f980c"
      },
      "source": [
        "filter_size = (5, 5)\n",
        "\n",
        "# initialize gauss filter \n",
        "g = np.zeros(filter_size)\n",
        "\n",
        "for i in range(filter_size[0]):\n",
        "  x = i - np.floor(filter_size[0] / 2).astype(int)\n",
        "  for j in range(filter_size[1]):\n",
        "    y = j - np.floor(filter_size[1] / 2).astype(int)\n",
        "    g[i, j] = int(gauss_blur_2d(x, y))\n",
        "  \n",
        "print(g)"
      ],
      "execution_count": null,
      "outputs": [
        {
          "output_type": "stream",
          "text": [
            "[[8. 1. 1. 1. 8.]\n",
            " [1. 0. 0. 0. 1.]\n",
            " [1. 0. 0. 0. 1.]\n",
            " [1. 0. 0. 0. 1.]\n",
            " [8. 1. 1. 1. 8.]]\n"
          ],
          "name": "stdout"
        }
      ]
    }
  ]
}