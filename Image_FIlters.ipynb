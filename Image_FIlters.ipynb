{
  "nbformat": 4,
  "nbformat_minor": 0,
  "metadata": {
    "colab": {
      "name": "Image-FIlters.ipynb",
      "provenance": [],
      "collapsed_sections": [],
      "authorship_tag": "ABX9TyM2qYK0GzrJcClSVYaZvXXc"
    },
    "kernelspec": {
      "name": "python3",
      "display_name": "Python 3"
    }
  },
  "cells": [
    {
      "cell_type": "markdown",
      "metadata": {
        "id": "exuOkF4Zf-1q",
        "colab_type": "text"
      },
      "source": [
        "Gaussian Filter or Blus: Used to reduce image noise and reduce detail.\n",
        "\n",
        "* 1D Gaussian: `G(x, n) = (exp(-x² / 2 * n²)) / (2 * pi *  n²) ** 0.5`\n",
        "* 2D Gaussian: `G(x, y, n) = (exp(-(x² + y²) / 2 * n²)) / (2 * pi *  n²)`\n",
        "\n",
        "where n is standard deviation"
      ]
    },
    {
      "cell_type": "code",
      "metadata": {
        "id": "_hTWa5Kbkiod",
        "colab_type": "code",
        "colab": {}
      },
      "source": [
        "import numpy as np\n",
        "from matplotlib import pyplot as plt"
      ],
      "execution_count": 40,
      "outputs": []
    },
    {
      "cell_type": "code",
      "metadata": {
        "id": "vJWqgukGj-jY",
        "colab_type": "code",
        "colab": {}
      },
      "source": [
        "# Implementation of 2d Discrete Gaussian Filter\n",
        "\n",
        "def gauss_blur_2d(x, y, n=1.0):\n",
        "  return np.exp(-((x ** 2) + (y ** 2)) / (2 * (n ** 2))) / (2 * np.pi * (n ** 2))"
      ],
      "execution_count": 44,
      "outputs": []
    },
    {
      "cell_type": "code",
      "metadata": {
        "id": "35fFTgorlG7l",
        "colab_type": "code",
        "colab": {
          "base_uri": "https://localhost:8080/",
          "height": 109
        },
        "outputId": "39caf000-619b-416a-b42a-513b03d01949"
      },
      "source": [
        "filter_size = (5, 5)\n",
        "\n",
        "x = np.floor(filter_size[0] / 2).astype(int)\n",
        "y = np.floor(filter_size[1] / 2).astype(int)\n",
        "_x = np.arange(-x, x + 1, 1)\n",
        "_y = np.arange(-y, y + 1, 1)\n",
        "\n",
        "xx, yy = np.meshgrid(_x, _y)\n",
        "\n",
        "print(gauss_blur_2d(xx, yy) * 273)"
      ],
      "execution_count": 48,
      "outputs": [
        {
          "output_type": "stream",
          "text": [
            "[[ 0.79580168  3.56653569  5.88022325  3.56653569  0.79580168]\n",
            " [ 3.56653569 15.98410401 26.35333227 15.98410401  3.56653569]\n",
            " [ 5.88022325 26.35333227 43.44929946 26.35333227  5.88022325]\n",
            " [ 3.56653569 15.98410401 26.35333227 15.98410401  3.56653569]\n",
            " [ 0.79580168  3.56653569  5.88022325  3.56653569  0.79580168]]\n"
          ],
          "name": "stdout"
        }
      ]
    }
  ]
}